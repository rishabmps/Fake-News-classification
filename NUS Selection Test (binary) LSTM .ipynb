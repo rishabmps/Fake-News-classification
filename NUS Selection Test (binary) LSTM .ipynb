{
 "cells": [
  {
   "cell_type": "markdown",
   "metadata": {},
   "source": [
    "## Getting the data"
   ]
  },
  {
   "cell_type": "code",
   "execution_count": 1,
   "metadata": {},
   "outputs": [
    {
     "name": "stdout",
     "output_type": "stream",
     "text": [
      "fatal: destination path 'LIAR-PLUS' already exists and is not an empty directory.\n",
      "/home/jupyter/LIAR-PLUS/dataset\n",
      "cache\t\t   glove.6B.zip  test.csv    wwm_uncased_L-24_H-1024_A-16\n",
      "glove.6B.100d.txt  labels.csv\t train2.tsv  wwm_uncased_L-24_H-1024_A-16.zip\n",
      "glove.6B.200d.txt  LIAR-PLUS\t train.csv\n",
      "glove.6B.300d.txt  lstm.h5\t val2.tsv\n",
      "glove.6B.50d.txt   test2.tsv\t val.csv\n"
     ]
    }
   ],
   "source": [
    "# Clone the entire repo.\n",
    "!git clone  https://github.com/Tariq60/LIAR-PLUS\n",
    "%cd LIAR-PLUS/dataset\n",
    "!ls"
   ]
  },
  {
   "cell_type": "code",
   "execution_count": null,
   "metadata": {},
   "outputs": [],
   "source": [
    "!wget http://nlp.stanford.edu/data/glove.6B.zip\n",
    "!unzip glove.6B.zip"
   ]
  },
  {
   "cell_type": "markdown",
   "metadata": {},
   "source": [
    "## Loading the data"
   ]
  },
  {
   "cell_type": "code",
   "execution_count": 2,
   "metadata": {},
   "outputs": [],
   "source": [
    "import os\n",
    "import numpy as np\n",
    "import csv\n",
    "import pandas as pd\n",
    "import nltk\n",
    "from nltk.stem import SnowballStemmer\n",
    "from nltk.stem.porter import PorterStemmer\n",
    "from nltk.tokenize import word_tokenize\n",
    "\n",
    "import seaborn as sb\n",
    "\n",
    "\n",
    "# Defining Headers and Condstants like file names\n",
    "\n",
    "test_filename = 'test2.tsv'\n",
    "train_filename = 'train2.tsv'\n",
    "valid_filename = 'val2.tsv'\n",
    "header = ['id','label','statement','subjects','speaker','job_title','state','party','barely_true_counts'\n",
    "         ,'false_counts','half_true_counts','mostly_true_counts','pants_on_fire_counts','venue','justification']\n",
    "\n",
    "# Reading the data \n",
    "\n",
    "train_news = pd.read_csv(train_filename,sep='\\t',names=header)\n",
    "test_news = pd.read_csv(test_filename,sep='\\t',names=header)\n",
    "valid_news = pd.read_csv(valid_filename,sep='\\t',names=header)\n",
    "\n",
    "\n"
   ]
  },
  {
   "cell_type": "markdown",
   "metadata": {},
   "source": [
    "## Inspecting the data"
   ]
  },
  {
   "cell_type": "code",
   "execution_count": 38,
   "metadata": {},
   "outputs": [
    {
     "data": {
      "text/html": [
       "<div>\n",
       "<style scoped>\n",
       "    .dataframe tbody tr th:only-of-type {\n",
       "        vertical-align: middle;\n",
       "    }\n",
       "\n",
       "    .dataframe tbody tr th {\n",
       "        vertical-align: top;\n",
       "    }\n",
       "\n",
       "    .dataframe thead th {\n",
       "        text-align: right;\n",
       "    }\n",
       "</style>\n",
       "<table border=\"1\" class=\"dataframe\">\n",
       "  <thead>\n",
       "    <tr style=\"text-align: right;\">\n",
       "      <th></th>\n",
       "      <th>id</th>\n",
       "      <th>label</th>\n",
       "      <th>statement</th>\n",
       "      <th>subjects</th>\n",
       "      <th>speaker</th>\n",
       "      <th>job_title</th>\n",
       "      <th>state</th>\n",
       "      <th>party</th>\n",
       "      <th>barely_true_counts</th>\n",
       "      <th>false_counts</th>\n",
       "      <th>half_true_counts</th>\n",
       "      <th>mostly_true_counts</th>\n",
       "      <th>pants_on_fire_counts</th>\n",
       "      <th>venue</th>\n",
       "      <th>justification</th>\n",
       "      <th>text</th>\n",
       "      <th>output</th>\n",
       "    </tr>\n",
       "  </thead>\n",
       "  <tbody>\n",
       "    <tr>\n",
       "      <th>0</th>\n",
       "      <td>2635.json</td>\n",
       "      <td>false</td>\n",
       "      <td>Says the Annies List political group supports ...</td>\n",
       "      <td>abortion</td>\n",
       "      <td>dwayne-bohac</td>\n",
       "      <td>State representative</td>\n",
       "      <td>Texas</td>\n",
       "      <td>republican</td>\n",
       "      <td>0.0</td>\n",
       "      <td>1.0</td>\n",
       "      <td>0.0</td>\n",
       "      <td>0.0</td>\n",
       "      <td>0.0</td>\n",
       "      <td>a mailer</td>\n",
       "      <td>That's a premise that he fails to back up. Ann...</td>\n",
       "      <td>dwayne-bohac abortion State representative Tex...</td>\n",
       "      <td>0</td>\n",
       "    </tr>\n",
       "    <tr>\n",
       "      <th>1</th>\n",
       "      <td>10540.json</td>\n",
       "      <td>half-true</td>\n",
       "      <td>When did the decline of coal start? It started...</td>\n",
       "      <td>energy,history,job-accomplishments</td>\n",
       "      <td>scott-surovell</td>\n",
       "      <td>State delegate</td>\n",
       "      <td>Virginia</td>\n",
       "      <td>democrat</td>\n",
       "      <td>0.0</td>\n",
       "      <td>0.0</td>\n",
       "      <td>1.0</td>\n",
       "      <td>1.0</td>\n",
       "      <td>0.0</td>\n",
       "      <td>a floor speech.</td>\n",
       "      <td>Surovell said the decline of coal \"started whe...</td>\n",
       "      <td>scott-surovell energy,history,job-accomplishme...</td>\n",
       "      <td>1</td>\n",
       "    </tr>\n",
       "    <tr>\n",
       "      <th>2</th>\n",
       "      <td>324.json</td>\n",
       "      <td>mostly-true</td>\n",
       "      <td>Hillary Clinton agrees with John McCain \"by vo...</td>\n",
       "      <td>foreign-policy</td>\n",
       "      <td>barack-obama</td>\n",
       "      <td>President</td>\n",
       "      <td>Illinois</td>\n",
       "      <td>democrat</td>\n",
       "      <td>70.0</td>\n",
       "      <td>71.0</td>\n",
       "      <td>160.0</td>\n",
       "      <td>163.0</td>\n",
       "      <td>9.0</td>\n",
       "      <td>Denver</td>\n",
       "      <td>Obama said he would have voted against the ame...</td>\n",
       "      <td>barack-obama foreign-policy President Illinois...</td>\n",
       "      <td>1</td>\n",
       "    </tr>\n",
       "  </tbody>\n",
       "</table>\n",
       "</div>"
      ],
      "text/plain": [
       "           id        label                                          statement  \\\n",
       "0   2635.json        false  Says the Annies List political group supports ...   \n",
       "1  10540.json    half-true  When did the decline of coal start? It started...   \n",
       "2    324.json  mostly-true  Hillary Clinton agrees with John McCain \"by vo...   \n",
       "\n",
       "                             subjects         speaker             job_title  \\\n",
       "0                            abortion    dwayne-bohac  State representative   \n",
       "1  energy,history,job-accomplishments  scott-surovell        State delegate   \n",
       "2                      foreign-policy    barack-obama             President   \n",
       "\n",
       "      state       party  barely_true_counts  false_counts  half_true_counts  \\\n",
       "0     Texas  republican                 0.0           1.0               0.0   \n",
       "1  Virginia    democrat                 0.0           0.0               1.0   \n",
       "2  Illinois    democrat                70.0          71.0             160.0   \n",
       "\n",
       "   mostly_true_counts  pants_on_fire_counts            venue  \\\n",
       "0                 0.0                   0.0         a mailer   \n",
       "1                 1.0                   0.0  a floor speech.   \n",
       "2               163.0                   9.0           Denver   \n",
       "\n",
       "                                       justification  \\\n",
       "0  That's a premise that he fails to back up. Ann...   \n",
       "1  Surovell said the decline of coal \"started whe...   \n",
       "2  Obama said he would have voted against the ame...   \n",
       "\n",
       "                                                text  output  \n",
       "0  dwayne-bohac abortion State representative Tex...       0  \n",
       "1  scott-surovell energy,history,job-accomplishme...       1  \n",
       "2  barack-obama foreign-policy President Illinois...       1  "
      ]
     },
     "execution_count": 38,
     "metadata": {},
     "output_type": "execute_result"
    }
   ],
   "source": [
    "train_news.head(3)"
   ]
  },
  {
   "cell_type": "code",
   "execution_count": 4,
   "metadata": {},
   "outputs": [
    {
     "data": {
      "text/plain": [
       "id                                                              2635.json\n",
       "label                                                               false\n",
       "statement               Says the Annies List political group supports ...\n",
       "subjects                                                         abortion\n",
       "speaker                                                      dwayne-bohac\n",
       "job_title                                            State representative\n",
       "state                                                               Texas\n",
       "party                                                          republican\n",
       "barely_true_counts                                                      0\n",
       "false_counts                                                            1\n",
       "half_true_counts                                                        0\n",
       "mostly_true_counts                                                      0\n",
       "pants_on_fire_counts                                                    0\n",
       "venue                                                            a mailer\n",
       "justification           That's a premise that he fails to back up. Ann...\n",
       "Name: 0, dtype: object"
      ]
     },
     "execution_count": 4,
     "metadata": {},
     "output_type": "execute_result"
    }
   ],
   "source": [
    "train_news.T[0]"
   ]
  },
  {
   "cell_type": "code",
   "execution_count": 5,
   "metadata": {},
   "outputs": [
    {
     "name": "stdout",
     "output_type": "stream",
     "text": [
      "(10240, 15) (1284, 15) (1267, 15)\n"
     ]
    }
   ],
   "source": [
    "print(train_news.shape,valid_news.shape,test_news.shape)"
   ]
  },
  {
   "cell_type": "code",
   "execution_count": 6,
   "metadata": {},
   "outputs": [
    {
     "name": "stdout",
     "output_type": "stream",
     "text": [
      "<class 'pandas.core.frame.DataFrame'>\n",
      "Int64Index: 10240 entries, 0 to 10239\n",
      "Data columns (total 15 columns):\n",
      "id                      10240 non-null object\n",
      "label                   10240 non-null object\n",
      "statement               10240 non-null object\n",
      "subjects                10238 non-null object\n",
      "speaker                 10238 non-null object\n",
      "job_title               7343 non-null object\n",
      "state                   8032 non-null object\n",
      "party                   10238 non-null object\n",
      "barely_true_counts      10238 non-null float64\n",
      "false_counts            10238 non-null float64\n",
      "half_true_counts        10238 non-null float64\n",
      "mostly_true_counts      10238 non-null float64\n",
      "pants_on_fire_counts    10238 non-null float64\n",
      "venue                   10138 non-null object\n",
      "justification           10156 non-null object\n",
      "dtypes: float64(5), object(10)\n",
      "memory usage: 1.6+ MB\n"
     ]
    },
    {
     "data": {
      "text/plain": [
       "id                         0\n",
       "label                      0\n",
       "statement                  0\n",
       "subjects                   2\n",
       "speaker                    2\n",
       "job_title               2897\n",
       "state                   2208\n",
       "party                      2\n",
       "barely_true_counts         2\n",
       "false_counts               2\n",
       "half_true_counts           2\n",
       "mostly_true_counts         2\n",
       "pants_on_fire_counts       2\n",
       "venue                    102\n",
       "justification             84\n",
       "dtype: int64"
      ]
     },
     "execution_count": 6,
     "metadata": {},
     "output_type": "execute_result"
    }
   ],
   "source": [
    "# checking For nulls\n",
    "train_news.info()\n",
    "train_news.isna().sum()    "
   ]
  },
  {
   "cell_type": "markdown",
   "metadata": {},
   "source": [
    "### It can be seen from above analysis, that some rows do not have justification value."
   ]
  },
  {
   "cell_type": "code",
   "execution_count": 37,
   "metadata": {},
   "outputs": [],
   "source": [
    "# Creating a new Column by Combining justification and statement made by the speaker\n",
    "# In case justification is not available, text column will then be filled by statement only.\n",
    "# train_news['text'] = train_news[['speaker', 'subjects','job_title','state','party','statement','justification']].apply(lambda x: ' '.join(str(v) for v in x), axis=1)\n",
    "\n",
    "train_news['text'] = train_news['statement']+train_news['justification']\n",
    "train_news['text'] = train_news['text'].fillna(train_news['statement'])\n",
    "\n",
    "valid_news['text'] = valid_news['statement']+valid_news['justification']\n",
    "valid_news['text'] = valid_news['text'].fillna(valid_news['statement'])\n",
    "\n",
    "test_news['text'] = test_news['statement']+test_news['justification']\n",
    "test_news['text'] = test_news['text'].fillna(test_news['statement'])"
   ]
  },
  {
   "cell_type": "code",
   "execution_count": 8,
   "metadata": {},
   "outputs": [
    {
     "data": {
      "text/plain": [
       "array(['false', 'half-true', 'mostly-true', 'true', 'barely-true',\n",
       "       'pants-fire'], dtype=object)"
      ]
     },
     "execution_count": 8,
     "metadata": {},
     "output_type": "execute_result"
    }
   ],
   "source": [
    "train_news['label'].unique()"
   ]
  },
  {
   "cell_type": "markdown",
   "metadata": {},
   "source": [
    "### Making a new column 'output' to have a numerical value of the label column."
   ]
  },
  {
   "cell_type": "code",
   "execution_count": 39,
   "metadata": {},
   "outputs": [
    {
     "name": "stdout",
     "output_type": "stream",
     "text": [
      "{'pants-fire': 0, 'false': 0, 'barely-true': 0, 'half-true': 1, 'mostly-true': 1, 'true': 1}\n"
     ]
    }
   ],
   "source": [
    "label_dict = {\"pants-fire\" : 0, \"false\" : 0, \"barely-true\" : 0, \"half-true\" : 1, \"mostly-true\" : 1, \"true\" : 1}\n",
    "print(label_dict)\n",
    "\n",
    "train_news['output'] = train_news['label'].apply(lambda x: label_dict[x])\n",
    "valid_news['output'] = valid_news['label'].apply(lambda x: label_dict[x])\n",
    "test_news['output'] = test_news['label'].apply(lambda x: label_dict[x])\n",
    "\n",
    "num_classes = 2"
   ]
  },
  {
   "cell_type": "code",
   "execution_count": 40,
   "metadata": {},
   "outputs": [
    {
     "data": {
      "text/html": [
       "<div>\n",
       "<style scoped>\n",
       "    .dataframe tbody tr th:only-of-type {\n",
       "        vertical-align: middle;\n",
       "    }\n",
       "\n",
       "    .dataframe tbody tr th {\n",
       "        vertical-align: top;\n",
       "    }\n",
       "\n",
       "    .dataframe thead th {\n",
       "        text-align: right;\n",
       "    }\n",
       "</style>\n",
       "<table border=\"1\" class=\"dataframe\">\n",
       "  <thead>\n",
       "    <tr style=\"text-align: right;\">\n",
       "      <th></th>\n",
       "      <th>text</th>\n",
       "      <th>output</th>\n",
       "    </tr>\n",
       "  </thead>\n",
       "  <tbody>\n",
       "    <tr>\n",
       "      <th>0</th>\n",
       "      <td>dwayne-bohac abortion State representative Tex...</td>\n",
       "      <td>0</td>\n",
       "    </tr>\n",
       "    <tr>\n",
       "      <th>1</th>\n",
       "      <td>scott-surovell energy,history,job-accomplishme...</td>\n",
       "      <td>1</td>\n",
       "    </tr>\n",
       "    <tr>\n",
       "      <th>2</th>\n",
       "      <td>barack-obama foreign-policy President Illinois...</td>\n",
       "      <td>1</td>\n",
       "    </tr>\n",
       "    <tr>\n",
       "      <th>3</th>\n",
       "      <td>blog-posting health-care nan nan none Health c...</td>\n",
       "      <td>0</td>\n",
       "    </tr>\n",
       "    <tr>\n",
       "      <th>4</th>\n",
       "      <td>charlie-crist economy,jobs nan Florida democra...</td>\n",
       "      <td>1</td>\n",
       "    </tr>\n",
       "    <tr>\n",
       "      <th>5</th>\n",
       "      <td>robin-vos education Wisconsin Assembly speaker...</td>\n",
       "      <td>1</td>\n",
       "    </tr>\n",
       "    <tr>\n",
       "      <th>6</th>\n",
       "      <td>republican-party-texas candidates-biography na...</td>\n",
       "      <td>0</td>\n",
       "    </tr>\n",
       "    <tr>\n",
       "      <th>7</th>\n",
       "      <td>barack-obama ethics President Illinois democra...</td>\n",
       "      <td>1</td>\n",
       "    </tr>\n",
       "    <tr>\n",
       "      <th>8</th>\n",
       "      <td>oregon-lottery jobs nan nan organization Howev...</td>\n",
       "      <td>1</td>\n",
       "    </tr>\n",
       "    <tr>\n",
       "      <th>9</th>\n",
       "      <td>duey-stroebel energy,message-machine-2014,voti...</td>\n",
       "      <td>1</td>\n",
       "    </tr>\n",
       "    <tr>\n",
       "      <th>10</th>\n",
       "      <td>robert-menendez elections U.S. Senator New Jer...</td>\n",
       "      <td>1</td>\n",
       "    </tr>\n",
       "    <tr>\n",
       "      <th>11</th>\n",
       "      <td>bernie-s economy,jobs,new-hampshire-2012,pover...</td>\n",
       "      <td>1</td>\n",
       "    </tr>\n",
       "    <tr>\n",
       "      <th>12</th>\n",
       "      <td>mitt-romney history,state-budget Former govern...</td>\n",
       "      <td>0</td>\n",
       "    </tr>\n",
       "    <tr>\n",
       "      <th>13</th>\n",
       "      <td>doonesbury economy,federal-budget,health-care ...</td>\n",
       "      <td>1</td>\n",
       "    </tr>\n",
       "    <tr>\n",
       "      <th>14</th>\n",
       "      <td>george-will health-care Columnist Maryland col...</td>\n",
       "      <td>0</td>\n",
       "    </tr>\n",
       "    <tr>\n",
       "      <th>15</th>\n",
       "      <td>bernie-s elections U.S. Senator Vermont indepe...</td>\n",
       "      <td>1</td>\n",
       "    </tr>\n",
       "    <tr>\n",
       "      <th>16</th>\n",
       "      <td>barack-obama federal-budget President Illinois...</td>\n",
       "      <td>1</td>\n",
       "    </tr>\n",
       "    <tr>\n",
       "      <th>17</th>\n",
       "      <td>national-republican-congressional-committee fe...</td>\n",
       "      <td>0</td>\n",
       "    </tr>\n",
       "    <tr>\n",
       "      <th>18</th>\n",
       "      <td>gwen-moore financial-regulation,foreign-policy...</td>\n",
       "      <td>1</td>\n",
       "    </tr>\n",
       "    <tr>\n",
       "      <th>19</th>\n",
       "      <td>jack-lew bankruptcy,economy,population Treasur...</td>\n",
       "      <td>1</td>\n",
       "    </tr>\n",
       "  </tbody>\n",
       "</table>\n",
       "</div>"
      ],
      "text/plain": [
       "                                                 text  output\n",
       "0   dwayne-bohac abortion State representative Tex...       0\n",
       "1   scott-surovell energy,history,job-accomplishme...       1\n",
       "2   barack-obama foreign-policy President Illinois...       1\n",
       "3   blog-posting health-care nan nan none Health c...       0\n",
       "4   charlie-crist economy,jobs nan Florida democra...       1\n",
       "5   robin-vos education Wisconsin Assembly speaker...       1\n",
       "6   republican-party-texas candidates-biography na...       0\n",
       "7   barack-obama ethics President Illinois democra...       1\n",
       "8   oregon-lottery jobs nan nan organization Howev...       1\n",
       "9   duey-stroebel energy,message-machine-2014,voti...       1\n",
       "10  robert-menendez elections U.S. Senator New Jer...       1\n",
       "11  bernie-s economy,jobs,new-hampshire-2012,pover...       1\n",
       "12  mitt-romney history,state-budget Former govern...       0\n",
       "13  doonesbury economy,federal-budget,health-care ...       1\n",
       "14  george-will health-care Columnist Maryland col...       0\n",
       "15  bernie-s elections U.S. Senator Vermont indepe...       1\n",
       "16  barack-obama federal-budget President Illinois...       1\n",
       "17  national-republican-congressional-committee fe...       0\n",
       "18  gwen-moore financial-regulation,foreign-policy...       1\n",
       "19  jack-lew bankruptcy,economy,population Treasur...       1"
      ]
     },
     "execution_count": 40,
     "metadata": {},
     "output_type": "execute_result"
    }
   ],
   "source": [
    "train_news[['text','output']][:20]"
   ]
  },
  {
   "cell_type": "code",
   "execution_count": 41,
   "metadata": {},
   "outputs": [
    {
     "data": {
      "text/plain": [
       "dict_keys(['pants-fire', 'false', 'barely-true', 'half-true', 'mostly-true', 'true'])"
      ]
     },
     "execution_count": 41,
     "metadata": {},
     "output_type": "execute_result"
    }
   ],
   "source": [
    "label_dict.keys()"
   ]
  },
  {
   "cell_type": "code",
   "execution_count": 42,
   "metadata": {},
   "outputs": [],
   "source": [
    "from tensorflow.python.client import device_lib\n",
    "import numpy as np\n",
    "import pandas as pd\n",
    "from collections import defaultdict\n",
    "import re\n",
    "import sys\n",
    "\n",
    "import keras\n",
    "from keras.preprocessing.text import Tokenizer\n",
    "from keras.preprocessing.sequence import pad_sequences\n",
    "from keras.utils.np_utils import to_categorical\n",
    "\n",
    "from keras.layers import Embedding\n",
    "from keras.layers import Dense, Input, Flatten\n",
    "from keras.layers import Conv1D, MaxPooling1D, Embedding, Dropout\n",
    "from keras.models import Model\n",
    "\n",
    "MAX_SEQUENCE_LENGTH_OF_TEXT = 500\n",
    "MAX_NB_WORDS_VOCAB = 200000\n",
    "EMBEDDING_DIM = 100\n",
    "# VALIDATION_SPLIT = 0.2"
   ]
  },
  {
   "cell_type": "code",
   "execution_count": 43,
   "metadata": {},
   "outputs": [
    {
     "name": "stdout",
     "output_type": "stream",
     "text": [
      "[name: \"/device:CPU:0\"\n",
      "device_type: \"CPU\"\n",
      "memory_limit: 268435456\n",
      "locality {\n",
      "}\n",
      "incarnation: 17908459698638968742\n",
      ", name: \"/device:XLA_CPU:0\"\n",
      "device_type: \"XLA_CPU\"\n",
      "memory_limit: 17179869184\n",
      "locality {\n",
      "}\n",
      "incarnation: 18167850733431163702\n",
      "physical_device_desc: \"device: XLA_CPU device\"\n",
      ", name: \"/device:GPU:0\"\n",
      "device_type: \"GPU\"\n",
      "memory_limit: 15753943450\n",
      "locality {\n",
      "  bus_id: 1\n",
      "  links {\n",
      "  }\n",
      "}\n",
      "incarnation: 4616581694039505152\n",
      "physical_device_desc: \"device: 0, name: Tesla V100-SXM2-16GB, pci bus id: 0000:00:04.0, compute capability: 7.0\"\n",
      ", name: \"/device:XLA_GPU:0\"\n",
      "device_type: \"XLA_GPU\"\n",
      "memory_limit: 17179869184\n",
      "locality {\n",
      "}\n",
      "incarnation: 3153260531934118978\n",
      "physical_device_desc: \"device: XLA_GPU device\"\n",
      "]\n"
     ]
    }
   ],
   "source": [
    "print(device_lib.list_local_devices())"
   ]
  },
  {
   "cell_type": "code",
   "execution_count": 44,
   "metadata": {},
   "outputs": [],
   "source": [
    "def getTextData(df):\n",
    "    texts = []\n",
    "    labels = []\n",
    "    for i in range(df.text.shape[0]):\n",
    "        texts.append(df.text[i])\n",
    "        labels.append(df.output[i])\n",
    "    return texts,labels\n"
   ]
  },
  {
   "cell_type": "markdown",
   "metadata": {},
   "source": [
    "### Tokenizing the text column"
   ]
  },
  {
   "cell_type": "code",
   "execution_count": 45,
   "metadata": {},
   "outputs": [],
   "source": [
    "train_texts,train_labels = getTextData(train_news)\n",
    "test_texts,test_labels = getTextData(test_news)\n",
    "val_texts,val_labels = getTextData(valid_news)\n",
    "\n",
    "tokenizer = Tokenizer(num_words=MAX_NB_WORDS_VOCAB)\n",
    "tokenizer.fit_on_texts(train_texts)\n",
    "word_index = tokenizer.word_index\n",
    "\n",
    "\n"
   ]
  },
  {
   "cell_type": "code",
   "execution_count": 46,
   "metadata": {},
   "outputs": [
    {
     "name": "stdout",
     "output_type": "stream",
     "text": [
      "Found 26645 unique tokens.\n"
     ]
    }
   ],
   "source": [
    "print('Found %s unique tokens.' % len(word_index))"
   ]
  },
  {
   "cell_type": "code",
   "execution_count": 47,
   "metadata": {},
   "outputs": [
    {
     "data": {
      "text/plain": [
       "{0, 1}"
      ]
     },
     "execution_count": 47,
     "metadata": {},
     "output_type": "execute_result"
    }
   ],
   "source": [
    "set(train_labels)"
   ]
  },
  {
   "cell_type": "code",
   "execution_count": 48,
   "metadata": {},
   "outputs": [],
   "source": [
    "def getDataPostPadding(texts,labels):\n",
    "    sequences = tokenizer.texts_to_sequences(texts)\n",
    "    data = pad_sequences(sequences, maxlen=MAX_SEQUENCE_LENGTH_OF_TEXT,padding='post',truncating='post') # Pad input sequences\n",
    "    categorical_labels = to_categorical(np.asarray(labels))\n",
    "    return data , categorical_labels"
   ]
  },
  {
   "cell_type": "markdown",
   "metadata": {},
   "source": [
    "### Padding the text column "
   ]
  },
  {
   "cell_type": "markdown",
   "metadata": {},
   "source": [
    "Pad_sequences is used to ensure that all sequences in a list have the same length. By default this is done by padding 0 in the beginning of each sequence until each sequence has the same length as the longest sequence."
   ]
  },
  {
   "cell_type": "code",
   "execution_count": 49,
   "metadata": {},
   "outputs": [
    {
     "name": "stdout",
     "output_type": "stream",
     "text": [
      "Shape of data tensor: (10240, 500)\n",
      "Shape of label tensor: (10240, 2)\n"
     ]
    }
   ],
   "source": [
    "train_data,train_labels = getDataPostPadding(train_texts,train_labels)\n",
    "val_data,val_labels = getDataPostPadding(val_texts,val_labels)\n",
    "test_data,test_labels = getDataPostPadding(test_texts,test_labels)\n",
    "print('Shape of data tensor:', train_data.shape)\n",
    "print('Shape of label tensor:', train_labels.shape)"
   ]
  },
  {
   "cell_type": "markdown",
   "metadata": {},
   "source": [
    "### Ignoring the warnings to keep the notebook clean"
   ]
  },
  {
   "cell_type": "code",
   "execution_count": 50,
   "metadata": {},
   "outputs": [],
   "source": [
    "import warnings\n",
    "warnings.filterwarnings('ignore')"
   ]
  },
  {
   "cell_type": "markdown",
   "metadata": {},
   "source": [
    "## Creating the model for 2-way classification"
   ]
  },
  {
   "cell_type": "code",
   "execution_count": 51,
   "metadata": {},
   "outputs": [],
   "source": [
    "from keras.models import Sequential\n",
    "from keras.layers.convolutional import Conv3D\n",
    "from keras.layers.convolutional_recurrent import ConvLSTM2D\n",
    "from keras.layers.normalization import BatchNormalization\n",
    "import numpy as np\n",
    "from matplotlib import pyplot as plt\n",
    "from keras.layers import Dense, Embedding, LSTM, GRU,Bidirectional\n",
    "\n",
    "%matplotlib inline"
   ]
  },
  {
   "cell_type": "code",
   "execution_count": 52,
   "metadata": {},
   "outputs": [
    {
     "name": "stdout",
     "output_type": "stream",
     "text": [
      "Total 400000 word vectors in Glove.\n"
     ]
    }
   ],
   "source": [
    "\n",
    "#Using Pre-trained word embeddings\n",
    "GLOVE_DIR = \".\" \n",
    "embeddings_index = {}\n",
    "f = open(os.path.join(GLOVE_DIR, 'glove.6B.100d.txt'), encoding=\"utf8\")\n",
    "for line in f:\n",
    "    values = line.split()\n",
    "    #print(values[1:])\n",
    "    word = values[0]\n",
    "    coefs = np.asarray(values[1:], dtype='float32')\n",
    "    embeddings_index[word] = coefs\n",
    "f.close()\n",
    "\n",
    "print('Total %s word vectors in Glove.' % len(embeddings_index))\n",
    "\n",
    "embedding_matrix = np.random.random((len(word_index) + 1, EMBEDDING_DIM))\n",
    "for word, i in word_index.items():\n",
    "    embedding_vector = embeddings_index.get(word)\n",
    "    if embedding_vector is not None:\n",
    "        # words not found in embedding index will be all-zeros.\n",
    "        embedding_matrix[i] = embedding_vector\n",
    "        \n",
    "embedding_layer = Embedding(len(word_index) + 1,\n",
    "                            EMBEDDING_DIM,\n",
    "                            weights=[embedding_matrix],\n",
    "                            input_length=MAX_SEQUENCE_LENGTH_OF_TEXT)"
   ]
  },
  {
   "cell_type": "code",
   "execution_count": 53,
   "metadata": {},
   "outputs": [
    {
     "name": "stdout",
     "output_type": "stream",
     "text": [
      "_________________________________________________________________\n",
      "Layer (type)                 Output Shape              Param #   \n",
      "=================================================================\n",
      "embedding_2 (Embedding)      (None, 500, 100)          2664600   \n",
      "_________________________________________________________________\n",
      "dropout_2 (Dropout)          (None, 500, 100)          0         \n",
      "_________________________________________________________________\n",
      "conv1d_3 (Conv1D)            (None, 500, 32)           16032     \n",
      "_________________________________________________________________\n",
      "max_pooling1d_3 (MaxPooling1 (None, 250, 32)           0         \n",
      "_________________________________________________________________\n",
      "conv1d_4 (Conv1D)            (None, 250, 64)           6208      \n",
      "_________________________________________________________________\n",
      "max_pooling1d_4 (MaxPooling1 (None, 125, 64)           0         \n",
      "_________________________________________________________________\n",
      "bidirectional_2 (Bidirection (None, 200)               132000    \n",
      "_________________________________________________________________\n",
      "batch_normalization_2 (Batch (None, 200)               800       \n",
      "_________________________________________________________________\n",
      "dense_4 (Dense)              (None, 256)               51456     \n",
      "_________________________________________________________________\n",
      "dense_5 (Dense)              (None, 64)                16448     \n",
      "_________________________________________________________________\n",
      "dense_6 (Dense)              (None, 2)                 130       \n",
      "=================================================================\n",
      "Total params: 2,887,674\n",
      "Trainable params: 2,887,274\n",
      "Non-trainable params: 400\n",
      "_________________________________________________________________\n",
      "None\n"
     ]
    }
   ],
   "source": [
    "embedding_vecor_length = 32\n",
    "modell = Sequential()\n",
    "# modell.add(Embedding(len(word_index), 100, input_length=1000))\n",
    "modell.add(embedding_layer)\n",
    "modell.add(Dropout(0.2))\n",
    "modell.add(Conv1D(filters=32, kernel_size=5, padding='same', activation='relu'))\n",
    "modell.add(MaxPooling1D(pool_size=2))\n",
    "modell.add(Conv1D(filters=64, kernel_size=3, padding='same', activation='relu'))\n",
    "modell.add(MaxPooling1D(pool_size=2))\n",
    "modell.add(Bidirectional(LSTM(100, dropout=0.2, recurrent_dropout=0.2)))\n",
    "modell.add(BatchNormalization())\n",
    "modell.add(Dense(256, activation='relu'))\n",
    "modell.add(Dense(64, activation='relu'))\n",
    "modell.add(Dense(2, activation='softmax'))\n",
    "modell.compile(loss='categorical_crossentropy', optimizer='adam',\n",
    "               metrics=['categorical_accuracy','binary_accuracy'])\n",
    "print(modell.summary())\n"
   ]
  },
  {
   "cell_type": "code",
   "execution_count": 56,
   "metadata": {},
   "outputs": [
    {
     "name": "stdout",
     "output_type": "stream",
     "text": [
      "Train on 10240 samples, validate on 1284 samples\n",
      "Epoch 1/5\n",
      "10240/10240 [==============================] - 84s 8ms/step - loss: 0.5278 - categorical_accuracy: 0.7367 - binary_accuracy: 0.7367 - val_loss: 0.7655 - val_categorical_accuracy: 0.5444 - val_binary_accuracy: 0.5444\n",
      "Epoch 2/5\n",
      "10240/10240 [==============================] - 83s 8ms/step - loss: 0.4568 - categorical_accuracy: 0.7833 - binary_accuracy: 0.7833 - val_loss: 0.8368 - val_categorical_accuracy: 0.5872 - val_binary_accuracy: 0.5872\n",
      "Epoch 3/5\n",
      "10240/10240 [==============================] - 84s 8ms/step - loss: 0.3764 - categorical_accuracy: 0.8314 - binary_accuracy: 0.8314 - val_loss: 0.9853 - val_categorical_accuracy: 0.5569 - val_binary_accuracy: 0.5569\n",
      "Epoch 4/5\n",
      "10240/10240 [==============================] - 84s 8ms/step - loss: 0.3058 - categorical_accuracy: 0.8663 - binary_accuracy: 0.8663 - val_loss: 1.0805 - val_categorical_accuracy: 0.5717 - val_binary_accuracy: 0.5717\n",
      "Epoch 5/5\n",
      "10240/10240 [==============================] - 84s 8ms/step - loss: 0.2515 - categorical_accuracy: 0.8923 - binary_accuracy: 0.8923 - val_loss: 1.0573 - val_categorical_accuracy: 0.5607 - val_binary_accuracy: 0.5607\n"
     ]
    },
    {
     "data": {
      "text/plain": [
       "<keras.callbacks.History at 0x7fc86e14ed68>"
      ]
     },
     "execution_count": 56,
     "metadata": {},
     "output_type": "execute_result"
    }
   ],
   "source": [
    "# Change the batch size to 16 when running in colab\n",
    "modell.fit(train_data, train_labels, epochs=5, batch_size=64,validation_data=(val_data, val_labels))"
   ]
  },
  {
   "cell_type": "code",
   "execution_count": null,
   "metadata": {},
   "outputs": [],
   "source": [
    "modell.save('Bilstm_2_way.h5')"
   ]
  },
  {
   "cell_type": "code",
   "execution_count": null,
   "metadata": {},
   "outputs": [],
   "source": [
    "modell.load_weights('Bilstm_2_way.h5')"
   ]
  },
  {
   "cell_type": "markdown",
   "metadata": {},
   "source": [
    "### Testing"
   ]
  },
  {
   "cell_type": "code",
   "execution_count": 57,
   "metadata": {},
   "outputs": [
    {
     "name": "stdout",
     "output_type": "stream",
     "text": [
      "\n",
      "# Evaluate on test data\n",
      "1267/1267 [==============================] - 1s 687us/step\n",
      "test loss, test acc: [0.9742754379782793, 0.5864246268863271, 0.5864246268863271]\n"
     ]
    }
   ],
   "source": [
    "print('\\n# Evaluate on test data')\n",
    "results = modell.evaluate(test_data, test_labels, batch_size=256)\n",
    "print('test loss, test acc:', results)"
   ]
  },
  {
   "cell_type": "code",
   "execution_count": null,
   "metadata": {},
   "outputs": [],
   "source": []
  }
 ],
 "metadata": {
  "kernelspec": {
   "display_name": "Python 3",
   "language": "python",
   "name": "python3"
  },
  "language_info": {
   "codemirror_mode": {
    "name": "ipython",
    "version": 3
   },
   "file_extension": ".py",
   "mimetype": "text/x-python",
   "name": "python",
   "nbconvert_exporter": "python",
   "pygments_lexer": "ipython3",
   "version": "3.6.9"
  }
 },
 "nbformat": 4,
 "nbformat_minor": 2
}
